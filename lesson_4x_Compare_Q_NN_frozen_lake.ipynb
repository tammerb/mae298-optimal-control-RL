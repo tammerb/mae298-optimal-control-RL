{
 "cells": [
  {
   "cell_type": "code",
   "execution_count": 1,
   "metadata": {},
   "outputs": [
    {
     "name": "stdout",
     "output_type": "stream",
     "text": [
      "WARNING:tensorflow:From C:\\Users\\15309\\AppData\\Local\\Continuum\\anaconda3\\envs\\baselines\\lib\\site-packages\\tensorflow_core\\python\\compat\\v2_compat.py:88: disable_resource_variables (from tensorflow.python.ops.variable_scope) is deprecated and will be removed in a future version.\n",
      "Instructions for updating:\n",
      "non-resource variables are not supported in the long term\n"
     ]
    }
   ],
   "source": [
    "import gym\n",
    "import random\n",
    "import time\n",
    "import numpy as np\n",
    "import pandas as pd\n",
    "#import tensorflow as tf\n",
    "import tensorflow.compat.v1 as tf\n",
    "tf.disable_v2_behavior()\n",
    "from IPython.display import clear_output\n",
    "\n",
    "from gym.envs.registration import register\n",
    "\n",
    "\n",
    "# wrap in a try block to supress a warning we don't care about\n",
    "try:\n",
    "    register(\n",
    "        id='FrozenLakeNoSlip-v0',\n",
    "        entry_point='gym.envs.toy_text:FrozenLakeEnv',\n",
    "        kwargs={'map_name' : '4x4', 'is_slippery':False},\n",
    "        max_episode_steps=100,\n",
    "        reward_threshold=0.78, # optimum = .8196\n",
    "    )\n",
    "except:\n",
    "    pass"
   ]
  },
  {
   "cell_type": "code",
   "execution_count": 2,
   "metadata": {},
   "outputs": [
    {
     "data": {
      "text/plain": [
       "gym.spaces.discrete.Discrete"
      ]
     },
     "execution_count": 2,
     "metadata": {},
     "output_type": "execute_result"
    }
   ],
   "source": [
    "#env_name = \"CartPole-v1\"\n",
    "#env_name = \"MountainCar-v0\"\n",
    "#env_name = \"MountainCarContinuous-v0\"\n",
    "#env_name = \"Acrobot-v1\"\n",
    "#env_name = \"Pendulum-v0\"\n",
    "#env_name = \"FrozenLake-v0\"\n",
    "env_name = \"FrozenLakeNoSlip-v0\"   # we set is_slippery=False in the register up above\n",
    "\n",
    "env = gym.make(env_name)\n",
    "\n",
    "type(env.action_space)"
   ]
  },
  {
   "cell_type": "code",
   "execution_count": 3,
   "metadata": {},
   "outputs": [],
   "source": [
    "class Agent():\n",
    "    def __init__(self, env):\n",
    "        self.is_discrete = \\\n",
    "            type(env.action_space) == gym.spaces.discrete.Discrete\n",
    "        \n",
    "        if self.is_discrete:\n",
    "            self.action_size = env.action_space.n\n",
    "            print(\"Action size:\", self.action_size)\n",
    "            \n",
    "        else:\n",
    "            self.action_low = env.action_space.low\n",
    "            self.action_high = env.action_space.high\n",
    "            self.action_shape = env.action_space.shape\n",
    "            print(\"Action range:\", self.action_low, self.action_high)\n",
    "        \n",
    "    def get_action(self, state):\n",
    "        if self.is_discrete:\n",
    "            action = random.choice(range(self.action_size))\n",
    "        else:\n",
    "            action = np.random.uniform(self.action_low,\n",
    "                                      self.action_high,\n",
    "                                      self.action_shape)\n",
    "        return action"
   ]
  },
  {
   "cell_type": "code",
   "execution_count": 4,
   "metadata": {},
   "outputs": [],
   "source": [
    "# QAgent is a subclass of the Agent class above\n",
    "\n",
    "class QAgent(Agent):\n",
    "    def __init__(self, env, discount_rate, learning_rate):\n",
    "        super().__init__(env)\n",
    "        \n",
    "        # Action size already defined above in parent class\n",
    "        \n",
    "        # Define and printout state size here:\n",
    "        self.state_size = env.observation_space.n\n",
    "        print(\"State size\", self.state_size)\n",
    "        \n",
    "        self.eps = 1.0\n",
    "        self.discount_rate = discount_rate\n",
    "        self.learning_rate = learning_rate\n",
    "        # build a Q table\n",
    "        self.build_model()\n",
    "        \n",
    "    def build_model(self):\n",
    "        np.random.seed(17)\n",
    "        self.q_table = 1e-4*np.random.random([self.state_size, self.action_size])\n",
    "        \n",
    "    # modify get_action method\n",
    "    def get_action(self, state):\n",
    "        q_state = self.q_table[state]\n",
    "        \n",
    "        # exploration vs exploitation using probability of epsilon\n",
    "        action_greedy = np.argmax(q_state)\n",
    "        action_random = super().get_action(state)\n",
    "        return action_random if random.random() < self.eps else action_greedy\n",
    "    \n",
    "    def train(self, experience):\n",
    "        state, action, next_state, reward, done = experience\n",
    "        \n",
    "        # q table\n",
    "        q_next = self.q_table[next_state]\n",
    "        q_next = np.zeros([self.action_size]) if done else q_next\n",
    "        q_target = reward + self.discount_rate * np.max(q_next)\n",
    "        \n",
    "        q_update = q_target - self.q_table[state, action]\n",
    "        self.q_table[state, action] += self.learning_rate * q_update\n",
    "        \n",
    "        # Exponential decay of epsilon when reaching a terminal step\n",
    "        if done:\n",
    "            self.eps = self.eps * 0.99"
   ]
  },
  {
   "cell_type": "code",
   "execution_count": 5,
   "metadata": {},
   "outputs": [],
   "source": [
    "# QNAgent is a subclass of the Agent class above\n",
    "\n",
    "class QNAgent(Agent):\n",
    "    def __init__(self, env, discount_rate, learning_rate):\n",
    "        super().__init__(env)\n",
    "        \n",
    "        # Action size already defined above in parent class\n",
    "        \n",
    "        # Define and printout state size here:\n",
    "        self.state_size = env.observation_space.n\n",
    "        print(\"State size\", self.state_size)\n",
    "        \n",
    "        self.eps = 1.0\n",
    "        self.discount_rate = discount_rate\n",
    "        self.learning_rate = learning_rate\n",
    "        # build a Q table\n",
    "        self.build_model()\n",
    "        \n",
    "        self.sess = tf.Session()\n",
    "        self.sess.run(tf.global_variables_initializer())\n",
    "        \n",
    "    def build_model(self):\n",
    "        tf.reset_default_graph()   # do this anytime you name things, like the weights down below\n",
    "        self.state_in = tf.placeholder(tf.int32, shape=[1])\n",
    "        self.action_in = tf.placeholder(tf.int32, shape=[1])\n",
    "        self.target_in = tf.placeholder(tf.float32, shape=[1])\n",
    "        \n",
    "        self.state = tf.one_hot(self.state_in, depth=self.state_size)\n",
    "        self.action = tf.one_hot(self.action_in, depth=self.action_size)\n",
    "        \n",
    "        # attempt to start with same seeded random weight table as the q-table above\n",
    "        # np.random.seed(17)\n",
    "        # rand_table = 1e-4*np.random.random([self.state_size, self.action_size])\n",
    "        # init = tf.constant_initializer(rand_table)\n",
    "        # self.q_state = tf.layers.dense(self.state, units=self.action_size, name=\"q_table\", kernel_initializer=init, bias_initializer='zeros')\n",
    "        # self.q_action = tf.reduce_sum(tf.multiply(self.q_state, self.action), axis=1)\n",
    "        \n",
    "        self.q_state = tf.layers.dense(self.state, units=self.action_size, name=\"q_table\")\n",
    "        self.q_action = tf.reduce_sum(tf.multiply(self.q_state, self.action), axis=1)\n",
    "        \n",
    "        self.loss = tf.reduce_sum(tf.square(self.target_in - self.q_action))\n",
    "        self.optimizer = tf.train.AdamOptimizer(self.learning_rate).minimize(self.loss)\n",
    "        \n",
    "    # modify get_action method\n",
    "    def get_action(self, state):\n",
    "        q_state = self.sess.run(self.q_state, feed_dict={self.state_in: [state]})\n",
    "        \n",
    "        # exploration vs exploitation using probability of epsilon\n",
    "        action_greedy = np.argmax(q_state)\n",
    "        action_random = super().get_action(state)\n",
    "        return action_random if random.random() < self.eps else action_greedy\n",
    "    \n",
    "    def train(self, experience):\n",
    "        state, action, next_state, reward, done = ([exp] for exp in experience)\n",
    "        \n",
    "        # q table\n",
    "        q_next = self.sess.run(self.q_state, feed_dict={self.state_in: next_state})\n",
    "        q_next[done] = np.zeros([self.action_size])\n",
    "        q_target = reward + self.discount_rate * np.max(q_next)\n",
    "        \n",
    "        feed = {self.state_in: state, self.action_in: action, self.target_in: q_target}\n",
    "        self.sess.run(self.optimizer, feed_dict=feed)\n",
    "        \n",
    "        # Exponential decay of epsilon when reaching a terminal step\n",
    "        if experience[4]:\n",
    "            self.eps = self.eps * 0.99\n",
    "            \n",
    "    def __del__(self):\n",
    "        self.sess.close()\n",
    "        \n"
   ]
  },
  {
   "cell_type": "code",
   "execution_count": 6,
   "metadata": {},
   "outputs": [],
   "source": [
    "def run(discount_rate, learning_rate):    \n",
    "    agent = QAgent(env, discount_rate, learning_rate)\n",
    "    total_reward = 0\n",
    "    \n",
    "    total_rewards = []\n",
    "    for ep in range(100):\n",
    "        state = env.reset()\n",
    "        done = False\n",
    "        while not done:\n",
    "            action = agent.get_action(state)\n",
    "            next_state, reward, done, info = env.step(action)\n",
    "            agent.train((state,action,next_state,reward,done))\n",
    "            state = next_state\n",
    "            total_reward += reward\n",
    "\n",
    "            print(\"s:\", state, \"a:\", action)\n",
    "            print(\"Episode: {}, Total Reward: {}, eps: {}\".format(ep,total_reward,agent.eps))\n",
    "            env.render()\n",
    "            print(agent.q_table)\n",
    "            time.sleep(0.5)\n",
    "            clear_output(wait=True)\n",
    "            \n",
    "        total_rewards.append(total_reward)\n",
    "    return total_rewards"
   ]
  },
  {
   "cell_type": "code",
   "execution_count": 7,
   "metadata": {},
   "outputs": [],
   "source": [
    "def runNN(discount_rate, learning_rate):    \n",
    "    agent = QNAgent(env, discount_rate, learning_rate)\n",
    "    total_reward = 0\n",
    "    \n",
    "    total_rewards = []\n",
    "    for ep in range(100):\n",
    "        state = env.reset()\n",
    "        done = False\n",
    "        while not done:\n",
    "            action = agent.get_action(state)\n",
    "            next_state, reward, done, info = env.step(action)\n",
    "            agent.train((state,action,next_state,reward,done))\n",
    "            state = next_state\n",
    "            total_reward += reward\n",
    "\n",
    "            print(\"s:\", state, \"a:\", action)\n",
    "            print(\"Episode: {}, Total Reward: {}, eps: {}\".format(ep,total_reward,agent.eps))\n",
    "            env.render()\n",
    "            with tf.variable_scope(\"q_table\", reuse=True):\n",
    "                weights = agent.sess.run(tf.get_variable(\"kernel\"))\n",
    "                print(weights)\n",
    "            time.sleep(0.5)\n",
    "            clear_output(wait=True)\n",
    "            \n",
    "        total_rewards.append(total_reward)\n",
    "    return total_rewards    "
   ]
  },
  {
   "cell_type": "code",
   "execution_count": 8,
   "metadata": {},
   "outputs": [
    {
     "name": "stdout",
     "output_type": "stream",
     "text": [
      "s: 15 a: 2\n",
      "Episode: 99, Total Reward: 19.0, eps: 0.36603234127322926\n",
      "  (Right)\n",
      "SFFF\n",
      "FHFH\n",
      "FFFH\n",
      "HFF\u001b[41mG\u001b[0m\n",
      "[[3.51839874e-05 5.57227220e-05 3.87855284e-05 2.22104612e-05]\n",
      " [7.19288785e-05 5.87640510e-05 6.68992365e-05 5.86668309e-05]\n",
      " [9.24962177e-06 3.59469254e-05 9.35301692e-05 1.09890610e-05]\n",
      " [8.68177644e-05 8.59832445e-05 5.91063499e-06 6.60146225e-05]\n",
      " [5.55449890e-05 6.25511413e-05 3.95481416e-05 3.21410891e-05]\n",
      " [2.97725718e-05 5.61508905e-05 3.96047436e-05 7.88700710e-05]\n",
      " [3.93994742e-05 1.43903921e-05 1.50906694e-05 7.22424310e-06]\n",
      " [7.18037194e-05 2.92317355e-05 1.98773872e-05 8.31363922e-05]\n",
      " [5.70443655e-05 6.73462521e-06 1.42533863e-04 2.05911309e-05]\n",
      " [6.77290362e-05 5.12689214e-05 1.28911356e-03 7.56079544e-05]\n",
      " [7.97267730e-05 1.59489444e-02 9.13699596e-05 6.48594273e-05]\n",
      " [7.18776083e-05 7.43576765e-05 8.87736352e-05 1.33945668e-05]\n",
      " [7.76974581e-05 8.37991512e-05 8.29304764e-05 2.91569965e-06]\n",
      " [3.86470746e-05 4.38930276e-05 2.56311882e-03 4.99218463e-05]\n",
      " [3.28339779e-05 8.55141096e-04 1.73836804e-01 2.59930552e-04]\n",
      " [5.80774825e-05 9.54337866e-05 1.97443778e-05 8.33254006e-06]]\n"
     ]
    }
   ],
   "source": [
    "run1 = run(0.97, 0.01)"
   ]
  },
  {
   "cell_type": "code",
   "execution_count": 9,
   "metadata": {},
   "outputs": [
    {
     "name": "stdout",
     "output_type": "stream",
     "text": [
      "s: 11 a: 2\n",
      "Episode: 99, Total Reward: 5.0, eps: 0.36603234127322926\n",
      "  (Right)\n",
      "SFFF\n",
      "FHFH\n",
      "FFF\u001b[41mH\u001b[0m\n",
      "HFFG\n",
      "[[3.66666404e-05 5.55835722e-05 3.42935051e-05 1.97902802e-05]\n",
      " [7.39882985e-05 6.24166649e-05 6.73830160e-05 5.97139136e-05]\n",
      " [8.74054112e-06 3.60011027e-05 9.39163905e-05 1.01942821e-05]\n",
      " [8.66518721e-05 8.59832445e-05 5.11936656e-06 6.56369824e-05]\n",
      " [5.55614660e-05 5.84465986e-05 3.61279095e-05 3.33626299e-05]\n",
      " [2.97725718e-05 5.61508905e-05 3.96047436e-05 7.88700710e-05]\n",
      " [4.10156546e-05 1.59586319e-05 1.49397627e-05 5.52413502e-06]\n",
      " [7.18037194e-05 2.92317355e-05 1.98773872e-05 8.31363922e-05]\n",
      " [5.66460718e-05 6.60060617e-06 6.15998227e-05 2.30361315e-05]\n",
      " [6.67048335e-05 2.29838055e-05 4.68401937e-05 6.56840938e-05]\n",
      " [7.96199841e-05 9.43197521e-06 9.32251399e-05 6.59205392e-05]\n",
      " [7.18776083e-05 7.43576765e-05 8.87736352e-05 1.33945668e-05]\n",
      " [7.76974581e-05 8.37991512e-05 8.29304764e-05 2.91569965e-06]\n",
      " [3.86470746e-05 4.66550936e-05 1.00100199e-03 5.00033826e-05]\n",
      " [1.37883558e-05 9.84383531e-05 4.90161983e-02 5.79284078e-05]\n",
      " [5.80774825e-05 9.54337866e-05 1.97443778e-05 8.33254006e-06]]\n"
     ]
    }
   ],
   "source": [
    "run2 = run(0.97, 0.01)"
   ]
  },
  {
   "cell_type": "code",
   "execution_count": 10,
   "metadata": {
    "scrolled": true
   },
   "outputs": [
    {
     "name": "stdout",
     "output_type": "stream",
     "text": [
      "s: 15 a: 2\n",
      "Episode: 99, Total Reward: 7.0, eps: 0.36603234127322926\n",
      "  (Right)\n",
      "SFFF\n",
      "FHFH\n",
      "FFFH\n",
      "HFF\u001b[41mG\u001b[0m\n",
      "[[ 0.05102928  0.12786022  0.03625156  0.28457174]\n",
      " [ 0.03412386 -0.4334798   0.01472748  0.28076532]\n",
      " [ 0.04762604  0.1955242  -0.00678525  0.22732805]\n",
      " [ 0.06918911 -0.5149316  -0.01454188  0.22305562]\n",
      " [ 0.05895494  0.15073998 -0.5432226   0.26002172]\n",
      " [-0.28825748  0.46950293  0.41882944 -0.31637892]\n",
      " [-0.44903225  0.33934274 -0.604128    0.12388729]\n",
      " [ 0.5021137  -0.19379693  0.28742903  0.10234189]\n",
      " [ 0.02884687 -0.4577083   0.08667585  0.24633318]\n",
      " [ 0.05952438  0.16659188  0.1410436  -0.3644063 ]\n",
      " [ 0.0903693   0.3568958  -0.5749549   0.30591288]\n",
      " [ 0.413841    0.21971655 -0.34996337 -0.4549026 ]\n",
      " [-0.24516043 -0.38205975 -0.3487468   0.5326977 ]\n",
      " [-0.47326386 -0.01180613  0.3104291   0.22207472]\n",
      " [ 0.27894837  0.17582296  0.30402428  0.2667587 ]\n",
      " [ 0.24346411 -0.02693361  0.13209367 -0.48458248]]\n"
     ]
    }
   ],
   "source": [
    "run3 = runNN(0.97, 0.01)"
   ]
  },
  {
   "cell_type": "code",
   "execution_count": 11,
   "metadata": {},
   "outputs": [
    {
     "name": "stdout",
     "output_type": "stream",
     "text": [
      "s: 12 a: 1\n",
      "Episode: 99, Total Reward: 0.0, eps: 0.36603234127322926\n",
      "  (Down)\n",
      "SFFF\n",
      "FHFH\n",
      "FFFH\n",
      "\u001b[41mH\u001b[0mFFG\n",
      "[[ 0.02817303  0.43190345  0.20642114  0.1755215 ]\n",
      " [ 0.03355104 -0.13280995  0.18693918  0.11302371]\n",
      " [ 0.05392679  0.24855526  0.14777051  0.11673781]\n",
      " [ 0.0459092   0.27676174 -0.2665725   0.03497486]\n",
      " [ 0.03003747  0.47684765 -0.2785308   0.13885175]\n",
      " [ 0.18741804  0.22002733 -0.16651976 -0.24029228]\n",
      " [-0.3443922  -0.53705937 -0.11161418  0.22280191]\n",
      " [-0.3237102  -0.211766    0.4930333   0.29751194]\n",
      " [ 0.18101948 -0.11884826  0.20960297  0.19106916]\n",
      " [ 0.11530179  0.25464195  0.21406908 -0.29704505]\n",
      " [ 0.030311   -0.09169228 -0.20252696  0.13352886]\n",
      " [ 0.09561795 -0.22585768 -0.49805802 -0.14387527]\n",
      " [ 0.1760701  -0.45988634  0.01433456 -0.43405643]\n",
      " [-0.43603215 -0.15509667 -0.1847223   0.1587214 ]\n",
      " [ 0.09002507  0.26305127  0.08099478 -0.20531252]\n",
      " [ 0.15537673 -0.51868975 -0.22137749 -0.14131251]]\n"
     ]
    }
   ],
   "source": [
    "run4 = runNN(0.97, 0.01)"
   ]
  },
  {
   "cell_type": "code",
   "execution_count": 12,
   "metadata": {},
   "outputs": [],
   "source": [
    "from matplotlib import pyplot as plt"
   ]
  },
  {
   "cell_type": "code",
   "execution_count": 13,
   "metadata": {},
   "outputs": [
    {
     "data": {
      "image/png": "[encoded data removed]",
      "text/plain": [
       "<Figure size 432x288 with 1 Axes>"
      ]
     },
     "metadata": {
      "needs_background": "light"
     },
     "output_type": "display_data"
    }
   ],
   "source": [
    "episodes = [ep for ep in range(100)]\n",
    "\n",
    "plt.plot(episodes, run1, 'g-', label='Q-learning')   # green solid line\n",
    "plt.plot(episodes, run2, 'r-.', label='Q-learning') # red dot-dashed line\n",
    "plt.plot(episodes, run3, 'b:', label='Q NN') # blue dotted line\n",
    "plt.plot(episodes, run4, 'c:', label='Q NN') # blue dotted line\n",
    "\n",
    "\n",
    "plt.legend(loc=9) # loc=9 means \"top center\"\n",
    "plt.xlabel(\"Episode\")\n",
    "plt.title(\"Q-learning vs Deep Q-learning\")\n",
    "plt.show()"
   ]
  },
  {
   "cell_type": "code",
   "execution_count": null,
   "metadata": {},
   "outputs": [],
   "source": []
  },
  {
   "cell_type": "code",
   "execution_count": null,
   "metadata": {},
   "outputs": [],
   "source": []
  },
  {
   "cell_type": "code",
   "execution_count": null,
   "metadata": {},
   "outputs": [],
   "source": []
  }
 ],
 "metadata": {
  "kernelspec": {
   "display_name": "Python 3",
   "language": "python",
   "name": "python3"
  },
  "language_info": {
   "codemirror_mode": {
    "name": "ipython",
    "version": 3
   },
   "file_extension": ".py",
   "mimetype": "text/x-python",
   "name": "python",
   "nbconvert_exporter": "python",
   "pygments_lexer": "ipython3",
   "version": "3.7.9"
  }
 },
 "nbformat": 4,
 "nbformat_minor": 2
}
