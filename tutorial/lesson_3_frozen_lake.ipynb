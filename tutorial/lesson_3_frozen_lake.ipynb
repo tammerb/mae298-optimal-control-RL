{
 "cells": [
  {
   "cell_type": "code",
   "execution_count": 1,
   "metadata": {},
   "outputs": [],
   "source": [
    "import gym\n",
    "import random\n",
    "import time\n",
    "import numpy as np\n",
    "import pandas as pd\n",
    "from IPython.display import clear_output\n",
    "\n",
    "from gym.envs.registration import register\n",
    "\n",
    "\n",
    "# wrap in a try block to supress a warning we don't care about\n",
    "try:\n",
    "    register(\n",
    "        id='FrozenLakeNoSlip-v0',\n",
    "        entry_point='gym.envs.toy_text:FrozenLakeEnv',\n",
    "        kwargs={'map_name' : '4x4', 'is_slippery':False},\n",
    "        max_episode_steps=100,\n",
    "        reward_threshold=0.78, # optimum = .8196\n",
    "    )\n",
    "except:\n",
    "    pass"
   ]
  },
  {
   "cell_type": "markdown",
   "metadata": {},
   "source": [
    "## Intro to Q learning\n",
    "\n",
    "#### Overview:\n",
    "\n",
    "Before we created a random agent that can simulate continuous and discrete action spaces. Now we'll be looking at Frozen Lake. Slippery ice means actions don't always pan out (stochastic). We'll set `is_slippery` to `False` to make this a deterministic environment.\n",
    "\n",
    "Change iteration loop to run while `done=False`.\n",
    "\n",
    "Print updates at 0.5 second intervals.\n",
    "\n",
    "Flush notebook output with `clear_output` command."
   ]
  },
  {
   "cell_type": "markdown",
   "metadata": {},
   "source": [
    "https://www.youtube.com/watch?v=wN3rxIKmMgE&list=PLIfPjWrv526bMF8_vx9BqWjec-F-g-lQO&index=3"
   ]
  },
  {
   "cell_type": "code",
   "execution_count": 2,
   "metadata": {},
   "outputs": [
    {
     "name": "stdout",
     "output_type": "stream",
     "text": [
      "Observation space: Discrete(16)\n",
      "Action space: Discrete(4)\n"
     ]
    },
    {
     "data": {
      "text/plain": [
       "gym.spaces.discrete.Discrete"
      ]
     },
     "execution_count": 2,
     "metadata": {},
     "output_type": "execute_result"
    }
   ],
   "source": [
    "#env_name = \"CartPole-v1\"\n",
    "#env_name = \"MountainCar-v0\"\n",
    "#env_name = \"MountainCarContinuous-v0\"\n",
    "#env_name = \"Acrobot-v1\"\n",
    "#env_name = \"Pendulum-v0\"\n",
    "#env_name = \"FrozenLake-v0\"\n",
    "env_name = \"FrozenLakeNoSlip-v0\"   # we set is_slippery=False in the register up above\n",
    "\n",
    "env = gym.make(env_name)\n",
    "print(\"Observation space:\", env.observation_space)\n",
    "print(\"Action space:\", env.action_space)\n",
    "\n",
    "type(env.action_space)"
   ]
  },
  {
   "cell_type": "code",
   "execution_count": 3,
   "metadata": {},
   "outputs": [],
   "source": [
    "class Agent():\n",
    "    def __init__(self, env):\n",
    "        self.is_discrete = \\\n",
    "            type(env.action_space) == gym.spaces.discrete.Discrete\n",
    "        \n",
    "        if self.is_discrete:\n",
    "            self.action_size = env.action_space.n\n",
    "            print(\"Action size:\", self.action_size)\n",
    "            \n",
    "        else:\n",
    "            self.action_low = env.action_space.low\n",
    "            self.action_high = env.action_space.high\n",
    "            self.action_shape = env.action_space.shape\n",
    "            print(\"Action range:\", self.action_low, self.action_high)\n",
    "        \n",
    "    def get_action(self, state):\n",
    "        if self.is_discrete:\n",
    "            action = random.choice(range(self.action_size))\n",
    "        else:\n",
    "            action = np.random.uniform(self.action_low,\n",
    "                                      self.action_high,\n",
    "                                      self.action_shape)\n",
    "        return action"
   ]
  },
  {
   "cell_type": "markdown",
   "metadata": {},
   "source": [
    "To implement Q-learning, create Q-agent which a subclass of the parent agent.\n",
    "\n",
    "Q table:\n",
    "-States as rows\n",
    "-Actions as columns\n",
    "\n",
    "#### Redfine get-action method to select actions corresponding to the state. `argmax` is used to select the action with highest q-value.\n",
    "\n",
    "#### Define a `train` method for updating the q-table at each step.\n",
    "\n",
    "- It receives the `experience` tuple with `(state, action, next_state, reward, done)`.\n",
    "- Calls for `q_next` (pulls next_state from q-table), and checks if this next_state is `done`.\n",
    "- Calculates `q_target` from the Q-learning equation (reward plus _discounted_ future reward)\n",
    "- Calculates `q_update`, which is the distance from the current q-value to the target.\n",
    "- Pushes update to the q-table using _learning rate_.\n",
    "- Constructor defines both the `discount_rate` and the `learning_rate` used above.\n",
    "\n",
    "#### Balance exploration vs exploitation (aka policy or greedy action): epsilon (eps)\n",
    "Start with high epsilon (aka 1.0 to explore 100% of the time), then exponentially decay eps at each terminal step"
   ]
  },
  {
   "cell_type": "code",
   "execution_count": 4,
   "metadata": {},
   "outputs": [],
   "source": [
    "# QAgent is a subclass of the Agent class above\n",
    "\n",
    "class QAgent(Agent):\n",
    "    def __init__(self, env, discount_rate, learning_rate):\n",
    "        super().__init__(env)\n",
    "        \n",
    "        # Action size already defined above in parent class\n",
    "        \n",
    "        # Define and printout state size here:\n",
    "        self.state_size = env.observation_space.n\n",
    "        print(\"State size\", self.state_size)\n",
    "        \n",
    "        self.eps = 1.0\n",
    "        self.discount_rate = discount_rate\n",
    "        self.learning_rate = learning_rate\n",
    "        # build a Q table\n",
    "        self.build_model()\n",
    "        \n",
    "    def build_model(self):\n",
    "        np.random.seed(17)\n",
    "        self.q_table = 1e-4*np.random.random([self.state_size, self.action_size])\n",
    "        \n",
    "    # modify get_action method\n",
    "    def get_action(self, state):\n",
    "        q_state = self.q_table[state]\n",
    "        \n",
    "        # exploration vs exploitation using probability of epsilon\n",
    "        action_greedy = np.argmax(q_state)\n",
    "        action_random = super().get_action(state)\n",
    "        return action_random if random.random() < self.eps else action_greedy\n",
    "    \n",
    "    def train(self, experience):\n",
    "        state, action, next_state, reward, done = experience\n",
    "        \n",
    "        # q table\n",
    "        q_next = self.q_table[next_state]\n",
    "        q_next = np.zeros([self.action_size]) if done else q_next\n",
    "        q_target = reward + self.discount_rate * np.max(q_next)\n",
    "        \n",
    "        q_update = q_target - self.q_table[state, action]\n",
    "        self.q_table[state, action] += self.learning_rate * q_update\n",
    "        \n",
    "        # Exponential decay of epsilon when reaching a terminal step\n",
    "        if done:\n",
    "            self.eps = self.eps * 0.99\n",
    "        \n"
   ]
  },
  {
   "cell_type": "markdown",
   "metadata": {},
   "source": [
    "### Adjusting the simulation loop for training\n",
    "\n",
    "- env.step returns the next step, so make a variable called next_step\n",
    "- call train method\n",
    "- update the state to the next state\n",
    "- train over a number of episodes\n",
    "- and track the reward"
   ]
  },
  {
   "cell_type": "code",
   "execution_count": 5,
   "metadata": {},
   "outputs": [],
   "source": [
    "def run(discount_rate, learning_rate):    \n",
    "    agent = QAgent(env, discount_rate, learning_rate)\n",
    "    total_reward = 0\n",
    "    \n",
    "    total_rewards = []\n",
    "    for ep in range(100):\n",
    "        state = env.reset()\n",
    "        done = False\n",
    "        while not done:\n",
    "            action = agent.get_action(state)\n",
    "            next_state, reward, done, info = env.step(action)\n",
    "            agent.train((state,action,next_state,reward,done))\n",
    "            state = next_state\n",
    "            total_reward += reward\n",
    "\n",
    "            print(\"s:\", state, \"a:\", action)\n",
    "            print(\"Episode: {}, Total Reward: {}, eps: {}\".format(ep,total_reward,agent.eps))\n",
    "            env.render()\n",
    "            print(agent.q_table)\n",
    "            time.sleep(0.5)\n",
    "            clear_output(wait=True)\n",
    "            \n",
    "        total_rewards.append(total_reward)\n",
    "    return total_rewards\n",
    "        \n",
    "            "
   ]
  },
  {
   "cell_type": "code",
   "execution_count": 6,
   "metadata": {},
   "outputs": [
    {
     "name": "stdout",
     "output_type": "stream",
     "text": [
      "s: 5 a: 3\n",
      "Episode: 99, Total Reward: 8.0, eps: 0.36603234127322926\n",
      "  (Up)\n",
      "SFFF\n",
      "F\u001b[41mH\u001b[0mFH\n",
      "FFFH\n",
      "HFFG\n",
      "[[3.67322375e-05 5.56035322e-05 3.74315378e-05 1.98063435e-05]\n",
      " [7.23214272e-05 5.81764105e-05 6.43088753e-05 5.93010445e-05]\n",
      " [4.62280850e-06 3.58294767e-05 9.44736073e-05 6.00446803e-06]\n",
      " [8.64565622e-05 8.77290526e-05 5.11936656e-06 6.52418615e-05]\n",
      " [5.56362081e-05 5.84326451e-05 3.54089641e-05 3.48804622e-05]\n",
      " [2.97725718e-05 5.61508905e-05 3.96047436e-05 7.88700710e-05]\n",
      " [4.14299541e-05 1.43903921e-05 1.50906694e-05 5.52413502e-06]\n",
      " [7.18037194e-05 2.92317355e-05 1.98773872e-05 8.31363922e-05]\n",
      " [5.64029648e-05 6.73462521e-06 6.27164268e-05 2.47043589e-05]\n",
      " [6.68272870e-05 5.29317702e-05 4.69588492e-05 7.04715543e-05]\n",
      " [7.97267730e-05 3.93496877e-04 9.41668080e-05 6.59205392e-05]\n",
      " [7.18776083e-05 7.43576765e-05 8.87736352e-05 1.33945668e-05]\n",
      " [7.76974581e-05 8.37991512e-05 8.29304764e-05 2.91569965e-06]\n",
      " [3.78779979e-05 5.49752786e-05 2.38638590e-03 5.00033826e-05]\n",
      " [1.49118193e-05 1.31727030e-03 7.72613682e-02 5.86209214e-05]\n",
      " [5.80774825e-05 9.54337866e-05 1.97443778e-05 8.33254006e-06]]\n"
     ]
    }
   ],
   "source": [
    "run1 = run(0.97, 0.01)"
   ]
  },
  {
   "cell_type": "code",
   "execution_count": 7,
   "metadata": {},
   "outputs": [
    {
     "name": "stdout",
     "output_type": "stream",
     "text": [
      "s: 15 a: 2\n",
      "Episode: 99, Total Reward: 25.0, eps: 0.36603234127322926\n",
      "  (Right)\n",
      "SFFF\n",
      "FHFH\n",
      "FFFH\n",
      "HFF\u001b[41mG\u001b[0m\n",
      "[[1.99551504e-02 5.43965263e-04 7.24364384e-02 6.48038838e-03]\n",
      " [7.36876217e-05 4.24062463e-06 1.57300843e-01 1.96981426e-02]\n",
      " [6.04631459e-04 3.17721831e-01 9.35311076e-03 8.20225607e-03]\n",
      " [5.58391607e-02 1.46307335e-05 3.21193419e-04 7.29556181e-05]\n",
      " [5.56263478e-05 5.98383735e-05 3.17243130e-05 8.61795842e-03]\n",
      " [2.97725718e-05 5.61508905e-05 3.96047436e-05 7.88700710e-05]\n",
      " [2.22399760e-05 5.43566939e-01 8.91088940e-06 5.45512068e-02]\n",
      " [7.18037194e-05 2.92317355e-05 1.98773872e-05 8.31363922e-05]\n",
      " [5.70693474e-05 4.86207985e-06 4.07924777e-03 2.37479347e-05]\n",
      " [6.41268062e-05 2.31228239e-05 2.45161614e-01 5.82605275e-05]\n",
      " [2.88863072e-02 7.73788091e-01 4.59541805e-05 1.01777146e-01]\n",
      " [7.18776083e-05 7.43576765e-05 8.87736352e-05 1.33945668e-05]\n",
      " [7.76974581e-05 8.37991512e-05 8.29304764e-05 2.91569965e-06]\n",
      " [3.51337042e-05 1.12690372e-02 1.78993430e-01 2.03940085e-02]\n",
      " [5.00938274e-02 2.62588103e-01 9.28210673e-01 1.86015139e-01]\n",
      " [5.80774825e-05 9.54337866e-05 1.97443778e-05 8.33254006e-06]]\n"
     ]
    }
   ],
   "source": [
    "run2 = run(0.97, 0.1)"
   ]
  },
  {
   "cell_type": "code",
   "execution_count": 8,
   "metadata": {},
   "outputs": [
    {
     "name": "stdout",
     "output_type": "stream",
     "text": [
      "s: 15 a: 2\n",
      "Episode: 99, Total Reward: 24.0, eps: 0.36603234127322926\n",
      "  (Right)\n",
      "SFFF\n",
      "FHFH\n",
      "FFFH\n",
      "HFF\u001b[41mG\u001b[0m\n",
      "[[8.32972005e-01 8.58734026e-01 8.58734026e-01 8.32972005e-01]\n",
      " [8.32972005e-01 0.00000000e+00 8.85292810e-01 7.95365006e-05]\n",
      " [7.95365006e-05 9.12673000e-01 8.00309304e-05 8.85292810e-01]\n",
      " [8.85292810e-01 0.00000000e+00 7.53359225e-05 8.00309304e-05]\n",
      " [8.58734026e-01 8.85292810e-01 0.00000000e+00 8.32972005e-01]\n",
      " [2.97725718e-05 5.61508905e-05 3.96047436e-05 7.88700710e-05]\n",
      " [0.00000000e+00 9.40900000e-01 0.00000000e+00 8.85292810e-01]\n",
      " [7.18037194e-05 2.92317355e-05 1.98773872e-05 8.31363922e-05]\n",
      " [8.85292810e-01 0.00000000e+00 9.12673000e-01 8.58734026e-01]\n",
      " [8.85292810e-01 9.40900000e-01 9.40900000e-01 0.00000000e+00]\n",
      " [9.12673000e-01 9.70000000e-01 0.00000000e+00 9.12673000e-01]\n",
      " [7.18776083e-05 7.43576765e-05 8.87736352e-05 1.33945668e-05]\n",
      " [7.76974581e-05 8.37991512e-05 8.29304764e-05 2.91569965e-06]\n",
      " [0.00000000e+00 9.40900000e-01 9.70000000e-01 9.12673000e-01]\n",
      " [9.40900000e-01 9.70000000e-01 1.00000000e+00 9.40900000e-01]\n",
      " [5.80774825e-05 9.54337866e-05 1.97443778e-05 8.33254006e-06]]\n"
     ]
    }
   ],
   "source": [
    "run3 = run(0.97, 1.0)"
   ]
  },
  {
   "cell_type": "code",
   "execution_count": 9,
   "metadata": {},
   "outputs": [
    {
     "name": "stdout",
     "output_type": "stream",
     "text": [
      "s: 7 a: 1\n",
      "Episode: 99, Total Reward: 3.0, eps: 0.36603234127322926\n",
      "  (Down)\n",
      "SFFF\n",
      "FHF\u001b[41mH\u001b[0m\n",
      "FFFH\n",
      "HFFG\n",
      "[[ 1.06388171e+96  3.51647078e+94  3.54714107e+95  7.07474208e+95]\n",
      " [ 7.83819495e+90 -1.40946551e+05  9.31964000e+94  8.38341784e+92]\n",
      " [-1.32734763e+95  5.89819135e+46  6.43824169e+43  8.13186028e+62]\n",
      " [ 3.43366585e+42  5.61465937e-03  4.69874803e+42  1.24807820e-04]\n",
      " [ 3.32862765e+88  7.34245032e+94  8.30695851e+05 -2.76711895e+87]\n",
      " [ 2.97725718e-05  5.61508905e-05  3.96047436e-05  7.88700710e-05]\n",
      " [ 6.69575017e-04  2.50808453e-04  6.03626778e-05 -8.58473858e+63]\n",
      " [ 7.18037194e-05  2.92317355e-05  1.98773872e-05  8.31363922e-05]\n",
      " [ 1.69219543e+94  2.15848712e+00  4.65634425e+49 -3.52734388e+94]\n",
      " [ 6.76762386e-05  1.08083682e+04  2.29726984e+62 -1.77596487e-04]\n",
      " [ 2.63223765e+49  7.00647481e+02 -1.92157551e-04  1.57759770e+64]\n",
      " [ 7.18776083e-05  7.43576765e-05  8.87736352e-05  1.33945668e-05]\n",
      " [ 7.76974581e-05  8.37991512e-05  8.29304764e-05  2.91569965e-06]\n",
      " [ 3.90374491e-05  4.37251992e-05 -3.71421586e+03  4.92872674e-05]\n",
      " [ 1.30429282e-05  8.72976488e+00  8.99994744e+00  1.27636291e+03]\n",
      " [ 5.80774825e-05  9.54337866e-05  1.97443778e-05  8.33254006e-06]]\n"
     ]
    }
   ],
   "source": [
    "run4 = run(0.97, 3.0)"
   ]
  },
  {
   "cell_type": "code",
   "execution_count": 10,
   "metadata": {},
   "outputs": [
    {
     "data": {
      "text/plain": [
       "8.0"
      ]
     },
     "execution_count": 10,
     "metadata": {},
     "output_type": "execute_result"
    }
   ],
   "source": [
    "run1[-1]"
   ]
  },
  {
   "cell_type": "code",
   "execution_count": 11,
   "metadata": {},
   "outputs": [
    {
     "data": {
      "text/plain": [
       "25.0"
      ]
     },
     "execution_count": 11,
     "metadata": {},
     "output_type": "execute_result"
    }
   ],
   "source": [
    "run2[-1]"
   ]
  },
  {
   "cell_type": "code",
   "execution_count": 12,
   "metadata": {},
   "outputs": [
    {
     "data": {
      "text/plain": [
       "24.0"
      ]
     },
     "execution_count": 12,
     "metadata": {},
     "output_type": "execute_result"
    }
   ],
   "source": [
    "run3[-1]"
   ]
  },
  {
   "cell_type": "code",
   "execution_count": 13,
   "metadata": {},
   "outputs": [
    {
     "data": {
      "text/plain": [
       "3.0"
      ]
     },
     "execution_count": 13,
     "metadata": {},
     "output_type": "execute_result"
    }
   ],
   "source": [
    "run4[-1]"
   ]
  },
  {
   "cell_type": "code",
   "execution_count": 14,
   "metadata": {},
   "outputs": [],
   "source": [
    "from matplotlib import pyplot as plt"
   ]
  },
  {
   "cell_type": "code",
   "execution_count": 17,
   "metadata": {},
   "outputs": [
    {
     "data": {
      "image/png": "[encoded data removed]",
      "text/plain": [
       "<Figure size 432x288 with 1 Axes>"
      ]
     },
     "metadata": {
      "needs_background": "light"
     },
     "output_type": "display_data"
    }
   ],
   "source": [
    "episodes = [ep for ep in range(100)]\n",
    "\n",
    "plt.plot(episodes, run1, 'g-', label='eta = 0.01')   # green solid line\n",
    "plt.plot(episodes, run2, 'r-.', label='eta = 0.1') # red dot-dashed line\n",
    "plt.plot(episodes, run3, 'b:', label='eta = 1.0') # blue dotted line\n",
    "plt.plot(episodes, run4, 'c:', label='eta = 3.0') # blue dotted line\n",
    "\n",
    "\n",
    "plt.legend(loc=9) # loc=9 means \"top center\"\n",
    "plt.xlabel(\"Episode\")\n",
    "plt.title(\"Learning rate tradeoff\")\n",
    "plt.show()"
   ]
  },
  {
   "cell_type": "code",
   "execution_count": null,
   "metadata": {},
   "outputs": [],
   "source": []
  },
  {
   "cell_type": "code",
   "execution_count": null,
   "metadata": {},
   "outputs": [],
   "source": []
  },
  {
   "cell_type": "code",
   "execution_count": null,
   "metadata": {},
   "outputs": [],
   "source": []
  }
 ],
 "metadata": {
  "kernelspec": {
   "display_name": "Python 3",
   "language": "python",
   "name": "python3"
  },
  "language_info": {
   "codemirror_mode": {
    "name": "ipython",
    "version": 3
   },
   "file_extension": ".py",
   "mimetype": "text/x-python",
   "name": "python",
   "nbconvert_exporter": "python",
   "pygments_lexer": "ipython3",
   "version": "3.7.9"
  }
 },
 "nbformat": 4,
 "nbformat_minor": 2
}
