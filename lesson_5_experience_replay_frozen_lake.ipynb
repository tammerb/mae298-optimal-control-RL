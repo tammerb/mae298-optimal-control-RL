{
 "cells": [
  {
   "cell_type": "code",
   "execution_count": 1,
   "metadata": {},
   "outputs": [
    {
     "name": "stdout",
     "output_type": "stream",
     "text": [
      "WARNING:tensorflow:From C:\\Users\\15309\\AppData\\Local\\Continuum\\anaconda3\\envs\\baselines\\lib\\site-packages\\tensorflow_core\\python\\compat\\v2_compat.py:88: disable_resource_variables (from tensorflow.python.ops.variable_scope) is deprecated and will be removed in a future version.\n",
      "Instructions for updating:\n",
      "non-resource variables are not supported in the long term\n"
     ]
    }
   ],
   "source": [
    "import gym\n",
    "import random\n",
    "import time\n",
    "import numpy as np\n",
    "import pandas as pd\n",
    "#import tensorflow as tf\n",
    "import tensorflow.compat.v1 as tf\n",
    "tf.disable_v2_behavior()\n",
    "from IPython.display import clear_output\n",
    "from collections import deque\n",
    "from gym.envs.registration import register\n",
    "\n",
    "\n",
    "# wrap in a try block to supress a warning we don't care about\n",
    "try:\n",
    "    register(\n",
    "        id='FrozenLakeNoSlip-v0',\n",
    "        entry_point='gym.envs.toy_text:FrozenLakeEnv',\n",
    "        kwargs={'map_name' : '4x4', 'is_slippery':False},\n",
    "        max_episode_steps=100,\n",
    "        reward_threshold=0.78, # optimum = .8196\n",
    "    )\n",
    "except:\n",
    "    pass"
   ]
  },
  {
   "cell_type": "code",
   "execution_count": 2,
   "metadata": {},
   "outputs": [
    {
     "data": {
      "text/plain": [
       "gym.spaces.discrete.Discrete"
      ]
     },
     "execution_count": 2,
     "metadata": {},
     "output_type": "execute_result"
    }
   ],
   "source": [
    "#env_name = \"CartPole-v1\"\n",
    "#env_name = \"MountainCar-v0\"\n",
    "#env_name = \"MountainCarContinuous-v0\"\n",
    "#env_name = \"Acrobot-v1\"\n",
    "#env_name = \"Pendulum-v0\"\n",
    "#env_name = \"FrozenLake-v0\"\n",
    "env_name = \"FrozenLakeNoSlip-v0\"   # we set is_slippery=False in the register up above\n",
    "\n",
    "env = gym.make(env_name)\n",
    "\n",
    "type(env.action_space)"
   ]
  },
  {
   "cell_type": "code",
   "execution_count": 3,
   "metadata": {},
   "outputs": [],
   "source": [
    "class Agent():\n",
    "    def __init__(self, env):\n",
    "        self.is_discrete = \\\n",
    "            type(env.action_space) == gym.spaces.discrete.Discrete\n",
    "        \n",
    "        if self.is_discrete:\n",
    "            self.action_size = env.action_space.n\n",
    "            print(\"Action size:\", self.action_size)\n",
    "            \n",
    "        else:\n",
    "            self.action_low = env.action_space.low\n",
    "            self.action_high = env.action_space.high\n",
    "            self.action_shape = env.action_space.shape\n",
    "            print(\"Action range:\", self.action_low, self.action_high)\n",
    "        \n",
    "    def get_action(self, state):\n",
    "        if self.is_discrete:\n",
    "            action = random.choice(range(self.action_size))\n",
    "        else:\n",
    "            action = np.random.uniform(self.action_low,\n",
    "                                      self.action_high,\n",
    "                                      self.action_shape)\n",
    "        return action"
   ]
  },
  {
   "cell_type": "markdown",
   "metadata": {},
   "source": [
    "## Experience Replay\n",
    "\n",
    "#### Overview:\n",
    "\n",
    "At each timestep, load a buffer with the experience, then train on a batch sampled from the buffer.\n",
    "\n",
    "#### Implementation\n",
    "\n",
    "In the train method, append experiences to a _dequeue_.\n",
    "\n",
    "use random choices to sampled the dequeueu to the batch.\n"
   ]
  },
  {
   "cell_type": "code",
   "execution_count": 4,
   "metadata": {},
   "outputs": [],
   "source": [
    "# QNRAgent is a subclass of the Agent class above\n",
    "\n",
    "class QNRAgent(Agent):\n",
    "    def __init__(self, env, discount_rate, learning_rate):\n",
    "        super().__init__(env)\n",
    "        \n",
    "        # Action size already defined above in parent class\n",
    "        \n",
    "        # Define and printout state size here:\n",
    "        self.state_size = env.observation_space.n\n",
    "        print(\"State size\", self.state_size)\n",
    "        \n",
    "        self.eps = 1.0\n",
    "        self.discount_rate = discount_rate\n",
    "        self.learning_rate = learning_rate\n",
    "        # build a Q table\n",
    "        self.build_model()\n",
    "        \n",
    "        self.sess = tf.Session()\n",
    "        self.sess.run(tf.global_variables_initializer())\n",
    "        self.replay_buffer = deque(maxlen=1000)\n",
    "        \n",
    "    def build_model(self):\n",
    "        tf.reset_default_graph()   # do this anytime you name things, like the weights down below\n",
    "        self.state_in = tf.placeholder(tf.int32, shape=[None])\n",
    "        self.action_in = tf.placeholder(tf.int32, shape=[None])\n",
    "        self.target_in = tf.placeholder(tf.float32, shape=[None])\n",
    "        \n",
    "        self.state = tf.one_hot(self.state_in, depth=self.state_size)\n",
    "        self.action = tf.one_hot(self.action_in, depth=self.action_size)\n",
    "        \n",
    "        self.q_state = tf.layers.dense(self.state, units=self.action_size, name=\"q_table\")\n",
    "        self.q_action = tf.reduce_sum(tf.multiply(self.q_state, self.action), axis=1)\n",
    "        \n",
    "        self.loss = tf.reduce_sum(tf.square(self.target_in - self.q_action))\n",
    "        self.optimizer = tf.train.AdamOptimizer(self.learning_rate).minimize(self.loss)\n",
    "        \n",
    "    # modify get_action method\n",
    "    def get_action(self, state):\n",
    "        q_state = self.sess.run(self.q_state, feed_dict={self.state_in: [state]})\n",
    "        \n",
    "        # exploration vs exploitation using probability of epsilon\n",
    "        action_greedy = np.argmax(q_state)\n",
    "        action_random = super().get_action(state)\n",
    "        return action_random if random.random() < self.eps else action_greedy\n",
    "    \n",
    "    def train(self, experience, batch_size=50):\n",
    "        self.replay_buffer.append(experience)\n",
    "        samples = random.choices(self.replay_buffer, k=batch_size)\n",
    "        state, action, next_state, reward, done = (list(col) for col in zip(experience, *samples))\n",
    "        \n",
    "        \n",
    "        #state, action, next_state, reward, done = ([exp] for exp in experience)\n",
    "        \n",
    "        # q table\n",
    "        q_next = self.sess.run(self.q_state, feed_dict={self.state_in: next_state})\n",
    "        q_next[done] = np.zeros([self.action_size])\n",
    "        q_target = reward + self.discount_rate * np.max(q_next, axis=1)\n",
    "        \n",
    "        feed = {self.state_in: state, self.action_in: action, self.target_in: q_target}\n",
    "        self.sess.run(self.optimizer, feed_dict=feed)\n",
    "        \n",
    "        # Exponential decay of epsilon when reaching a terminal step\n",
    "        if experience[4]:\n",
    "            self.eps = self.eps * 0.99\n",
    "            \n",
    "    def __del__(self):\n",
    "        self.sess.close()\n",
    "        \n"
   ]
  },
  {
   "cell_type": "markdown",
   "metadata": {},
   "source": [
    "### Adjusting the simulation loop for training\n",
    "\n",
    "- env.step returns the next step, so make a variable called next_step\n",
    "- call train method\n",
    "- update the state to the next state\n",
    "- train over a number of episodes\n",
    "- and track the reward\n",
    "\n",
    "- printing the q-table is printing the weights"
   ]
  },
  {
   "cell_type": "code",
   "execution_count": 5,
   "metadata": {},
   "outputs": [],
   "source": [
    "def run(agent):\n",
    "    total_reward = 0\n",
    "    \n",
    "    total_rewards = []\n",
    "    for ep in range(200):\n",
    "        state = env.reset()\n",
    "        done = False\n",
    "        while not done:\n",
    "            action = agent.get_action(state)\n",
    "            next_state, reward, done, info = env.step(action)\n",
    "            agent.train((state,action,next_state,reward,done))\n",
    "            state = next_state\n",
    "            total_reward += reward\n",
    "\n",
    "            print(\"s:\", state, \"a:\", action)\n",
    "            print(\"Episode: {}, Total Reward: {}, eps: {}\".format(ep,total_reward,agent.eps))\n",
    "            env.render()\n",
    "            with tf.variable_scope(\"q_table\", reuse=True):\n",
    "                weights = agent.sess.run(tf.get_variable(\"kernel\"))\n",
    "                print(weights)\n",
    "            time.sleep(0.5)\n",
    "            clear_output(wait=True)\n",
    "            \n",
    "        total_rewards.append(total_reward)\n",
    "    return total_rewards\n",
    "        \n",
    "            "
   ]
  },
  {
   "cell_type": "code",
   "execution_count": 6,
   "metadata": {},
   "outputs": [
    {
     "name": "stdout",
     "output_type": "stream",
     "text": [
      "s: 15 a: 2\n",
      "Episode: 199, Total Reward: 100.0, eps: 0.13397967485796175\n",
      "  (Right)\n",
      "SFFF\n",
      "FHFH\n",
      "FFFH\n",
      "HFF\u001b[41mG\u001b[0m\n",
      "[[ 0.17411056  0.29923117  0.3030457   0.09262465]\n",
      " [ 0.17417297 -0.55966353  0.32961     0.11821531]\n",
      " [ 0.19971377  0.3530754   0.3030817   0.14476278]\n",
      " [ 0.2263844  -0.55963     0.3030737   0.11821025]\n",
      " [ 0.19982712  0.32550114 -0.555664    0.09249324]\n",
      " [-0.40761656  0.30036527 -0.3903852   0.18141025]\n",
      " [-0.65892756  0.38128906 -0.5556625   0.14475644]\n",
      " [-0.20885691  0.18708187 -0.15366068 -0.13718098]\n",
      " [ 0.22649829 -0.5596535   0.35714766  0.11833951]\n",
      " [ 0.2262332   0.38116673  0.38530982 -0.7405032 ]\n",
      " [ 0.25390345  0.41028982 -0.5556639   0.17225975]\n",
      " [ 0.31148344  0.22943735 -0.43908313  0.4954872 ]\n",
      " [ 0.16872251  0.3894025   0.02249259 -0.13064   ]\n",
      " [-0.658972    0.38123426  0.41437364  0.17217056]\n",
      " [ 0.281961    0.411331    0.44435698  0.20037921]\n",
      " [-0.39351326 -0.27034563 -0.5268883   0.0456447 ]]\n"
     ]
    }
   ],
   "source": [
    "discount_rate = 0.97\n",
    "learning_rate = 0.01\n",
    "\n",
    "agent1 = QNRAgent(env, discount_rate, learning_rate)\n",
    "run1 = run(agent1)"
   ]
  },
  {
   "cell_type": "code",
   "execution_count": 7,
   "metadata": {},
   "outputs": [
    {
     "name": "stdout",
     "output_type": "stream",
     "text": [
      "s: 15 a: 2\n",
      "Episode: 199, Total Reward: 71.0, eps: 0.13397967485796175\n",
      "  (Right)\n",
      "SFFF\n",
      "FHFH\n",
      "FFFH\n",
      "HFF\u001b[41mG\u001b[0m\n",
      "[[ 0.28875944  0.26056805  0.10507677  0.04008388]\n",
      " [ 0.14113028 -0.58202446  0.33965996  0.19587117]\n",
      " [ 0.01412433  0.27066234  0.02300213  0.27561173]\n",
      " [-0.04417951 -0.39573792  0.00916837 -0.07134372]\n",
      " [ 0.32571307  0.29672    -0.44320086  0.26008314]\n",
      " [-0.20413736 -0.07198623 -0.37641197  0.5201744 ]\n",
      " [-0.37745017  0.29806152 -0.05675265  0.0395227 ]\n",
      " [-0.47515565 -0.29514858 -0.28455442  0.46607614]\n",
      " [ 0.12477913 -0.46574053  0.45628715  0.12897803]\n",
      " [ 0.14659849  0.35253036  0.4314666  -0.42337587]\n",
      " [ 0.38002622  0.26160038 -0.281924    0.10750379]\n",
      " [-0.38108218  0.47418106 -0.31894875 -0.18194732]\n",
      " [ 0.32873428  0.42423457 -0.04108769 -0.54047567]\n",
      " [-0.3842066   0.35304186  0.513773    0.35722804]\n",
      " [ 0.31231117  0.2803094   0.5437354   0.11791664]\n",
      " [-0.21845534  0.5318965  -0.36831334 -0.35080653]]\n"
     ]
    }
   ],
   "source": [
    "discount_rate = 0.97\n",
    "learning_rate = 0.001\n",
    "\n",
    "agent2 = QNRAgent(env, discount_rate, learning_rate)\n",
    "run2 = run(agent2)"
   ]
  },
  {
   "cell_type": "code",
   "execution_count": 8,
   "metadata": {},
   "outputs": [],
   "source": [
    "from matplotlib import pyplot as plt"
   ]
  },
  {
   "cell_type": "code",
   "execution_count": 11,
   "metadata": {},
   "outputs": [
    {
     "data": {
      "image/png": "[encoded data removed]",
      "text/plain": [
       "<Figure size 432x288 with 1 Axes>"
      ]
     },
     "metadata": {
      "needs_background": "light"
     },
     "output_type": "display_data"
    }
   ],
   "source": [
    "episodes = [ep for ep in range(200)]\n",
    "\n",
    "plt.plot(episodes, run1, 'g-', label='eta = 0.001')   # green solid line\n",
    "plt.plot(episodes, run2, 'r-.', label='eta = 0.01') # red dot-dashed line\n",
    "\n",
    "plt.legend(loc=9) # loc=9 means \"top center\"\n",
    "plt.xlabel(\"Episode\")\n",
    "plt.title(\"Learning rate tradeoff\")\n",
    "plt.show()"
   ]
  },
  {
   "cell_type": "code",
   "execution_count": null,
   "metadata": {},
   "outputs": [],
   "source": []
  },
  {
   "cell_type": "code",
   "execution_count": null,
   "metadata": {},
   "outputs": [],
   "source": []
  },
  {
   "cell_type": "code",
   "execution_count": null,
   "metadata": {},
   "outputs": [],
   "source": []
  }
 ],
 "metadata": {
  "kernelspec": {
   "display_name": "Python 3",
   "language": "python",
   "name": "python3"
  },
  "language_info": {
   "codemirror_mode": {
    "name": "ipython",
    "version": 3
   },
   "file_extension": ".py",
   "mimetype": "text/x-python",
   "name": "python",
   "nbconvert_exporter": "python",
   "pygments_lexer": "ipython3",
   "version": "3.7.9"
  }
 },
 "nbformat": 4,
 "nbformat_minor": 2
}
