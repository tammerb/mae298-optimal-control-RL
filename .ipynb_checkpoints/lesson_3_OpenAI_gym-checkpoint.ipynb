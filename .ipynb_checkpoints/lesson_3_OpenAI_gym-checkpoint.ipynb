{
 "cells": [
  {
   "cell_type": "code",
   "execution_count": 1,
   "metadata": {},
   "outputs": [],
   "source": [
    "import gym\n",
    "import random\n",
    "import time\n",
    "import numpy as np\n",
    "import pandas as pd\n",
    "from IPython.display import clear_output\n",
    "\n",
    "from gym.envs.registration import register\n",
    "\n",
    "\n",
    "# wrap in a try block to supress a warning we don't care about\n",
    "try:\n",
    "    register(\n",
    "        id='FrozenLakeNoSlip-v0',\n",
    "        entry_point='gym.envs.toy_text:FrozenLakeEnv',\n",
    "        kwargs={'map_name' : '4x4', 'is_slippery':False},\n",
    "        max_episode_steps=100,\n",
    "        reward_threshold=0.78, # optimum = .8196\n",
    "    )\n",
    "except:\n",
    "    pass"
   ]
  },
  {
   "cell_type": "markdown",
   "metadata": {},
   "source": [
    "## Intro to Q learning\n",
    "\n",
    "#### Overview:\n",
    "\n",
    "Before we created a random agent that can simulate continuous and discrete action spaces. Now we'll be looking at Frozen Lake. Slippery ice means actions don't always pan out (stochastic). We'll set `is_slippery` to `False` to make this a deterministic environment.\n",
    "\n",
    "Change iteration loop to run while `done=False`.\n",
    "\n",
    "Print updates at 0.5 second intervals.\n",
    "\n",
    "Flush notebook output with `clear_output` command."
   ]
  },
  {
   "cell_type": "markdown",
   "metadata": {},
   "source": [
    "https://www.youtube.com/watch?v=wN3rxIKmMgE&list=PLIfPjWrv526bMF8_vx9BqWjec-F-g-lQO&index=3"
   ]
  },
  {
   "cell_type": "code",
   "execution_count": 2,
   "metadata": {},
   "outputs": [
    {
     "name": "stdout",
     "output_type": "stream",
     "text": [
      "Observation space: Discrete(16)\n",
      "Action space: Discrete(4)\n"
     ]
    },
    {
     "data": {
      "text/plain": [
       "gym.spaces.discrete.Discrete"
      ]
     },
     "execution_count": 2,
     "metadata": {},
     "output_type": "execute_result"
    }
   ],
   "source": [
    "#env_name = \"CartPole-v1\"\n",
    "#env_name = \"MountainCar-v0\"\n",
    "#env_name = \"MountainCarContinuous-v0\"\n",
    "#env_name = \"Acrobot-v1\"\n",
    "#env_name = \"Pendulum-v0\"\n",
    "#env_name = \"FrozenLake-v0\"\n",
    "env_name = \"FrozenLakeNoSlip-v0\"   # we set is_slippery=False in the register up above\n",
    "\n",
    "env = gym.make(env_name)\n",
    "print(\"Observation space:\", env.observation_space)\n",
    "print(\"Action space:\", env.action_space)\n",
    "\n",
    "type(env.action_space)"
   ]
  },
  {
   "cell_type": "code",
   "execution_count": 3,
   "metadata": {},
   "outputs": [],
   "source": [
    "class Agent():\n",
    "    def __init__(self, env):\n",
    "        self.is_discrete = \\\n",
    "            type(env.action_space) == gym.spaces.discrete.Discrete\n",
    "        \n",
    "        if self.is_discrete:\n",
    "            self.action_size = env.action_space.n\n",
    "            print(\"Action size:\", self.action_size)\n",
    "            \n",
    "        else:\n",
    "            self.action_low = env.action_space.low\n",
    "            self.action_high = env.action_space.high\n",
    "            self.action_shape = env.action_space.shape\n",
    "            print(\"Action range:\", self.action_low, self.action_high)\n",
    "        \n",
    "    def get_action(self, state):\n",
    "        if self.is_discrete:\n",
    "            action = random.choice(range(self.action_size))\n",
    "        else:\n",
    "            action = np.random.uniform(self.action_low,\n",
    "                                      self.action_high,\n",
    "                                      self.action_shape)\n",
    "        return action"
   ]
  },
  {
   "cell_type": "markdown",
   "metadata": {},
   "source": [
    "To implement Q-learning, create Q-agent which a subclass of the parent agent.\n",
    "\n",
    "Q table:\n",
    "-States as rows\n",
    "-Actions as columns\n",
    "\n",
    "#### Redfine get-action method to select actions corresponding to the state. `argmax` is used to select the action with highest q-value.\n",
    "\n",
    "#### Define a `train` method for updating the q-table at each step.\n",
    "\n",
    "- It receives the `experience` tuple with `(state, action, next_state, reward, done)`.\n",
    "- Calls for `q_next` (pulls next_state from q-table), and checks if this next_state is `done`.\n",
    "- Calculates `q_target` from the Q-learning equation (reward plus _discounted_ future reward)\n",
    "- Calculates `q_update`, which is the distance from the current q-value to the target.\n",
    "- Pushes update to the q-table using _learning rate_.\n",
    "- Constructor defines both the `discount_rate` and the `learning_rate` used above.\n",
    "\n",
    "#### Balance exploration vs exploitation (aka policy or greedy action): epsilon (eps)\n",
    "Start with high epsilon (aka 1.0 to explore 100% of the time), then exponentially decay eps at each terminal step"
   ]
  },
  {
   "cell_type": "code",
   "execution_count": 4,
   "metadata": {},
   "outputs": [],
   "source": [
    "# QAgent is a subclass of the Agent class above\n",
    "\n",
    "class QAgent(Agent):\n",
    "    def __init__(self, env, discount_rate, learning_rate):\n",
    "        super().__init__(env)\n",
    "        \n",
    "        # Action size already defined above in parent class\n",
    "        \n",
    "        # Define and printout state size here:\n",
    "        self.state_size = env.observation_space.n\n",
    "        print(\"State size\", self.state_size)\n",
    "        \n",
    "        self.eps = 1.0\n",
    "        self.discount_rate = discount_rate\n",
    "        self.learning_rate = learning_rate\n",
    "        # build a Q table\n",
    "        self.build_model()\n",
    "        \n",
    "    def build_model(self):\n",
    "        np.random.seed(17)\n",
    "        self.q_table = 1e-4*np.random.random([self.state_size, self.action_size])\n",
    "        \n",
    "    # modify get_action method\n",
    "    def get_action(self, state):\n",
    "        q_state = self.q_table[state]\n",
    "        \n",
    "        # exploration vs exploitation using probability of epsilon\n",
    "        action_greedy = np.argmax(q_state)\n",
    "        action_random = super().get_action(state)\n",
    "        return action_random if random.random() < self.eps else action_greedy\n",
    "    \n",
    "    def train(self, experience):\n",
    "        state, action, next_state, reward, done = experience\n",
    "        \n",
    "        # q table\n",
    "        q_next = self.q_table[next_state]\n",
    "        q_next = np.zeros([self.action_size]) if done else q_next\n",
    "        q_target = reward + self.discount_rate * np.max(q_next)\n",
    "        \n",
    "        q_update = q_target - self.q_table[state, action]\n",
    "        self.q_table[state, action] += self.learning_rate * q_update\n",
    "        \n",
    "        # Exponential decay of epsilon when reaching a terminal step\n",
    "        if done:\n",
    "            self.eps = self.eps * 0.99\n",
    "        \n"
   ]
  },
  {
   "cell_type": "markdown",
   "metadata": {},
   "source": [
    "### Adjusting the simulation loop for training\n",
    "\n",
    "- env.step returns the next step, so make a variable called next_step\n",
    "- call train method\n",
    "- update the state to the next state\n",
    "- train over a number of episodes\n",
    "- and track the reward"
   ]
  },
  {
   "cell_type": "code",
   "execution_count": 5,
   "metadata": {},
   "outputs": [],
   "source": [
    "def run(discount_rate, learning_rate):    \n",
    "    agent = QAgent(env, discount_rate, learning_rate)\n",
    "    total_reward = 0\n",
    "    \n",
    "    total_rewards = []\n",
    "    for ep in range(100):\n",
    "        state = env.reset()\n",
    "        done = False\n",
    "        while not done:\n",
    "            action = agent.get_action(state)\n",
    "            next_state, reward, done, info = env.step(action)\n",
    "            agent.train((state,action,next_state,reward,done))\n",
    "            state = next_state\n",
    "            total_reward += reward\n",
    "\n",
    "            print(\"s:\", state, \"a:\", action)\n",
    "            print(\"Episode: {}, Total Reward: {}, eps: {}\".format(ep,total_reward,agent.eps))\n",
    "            env.render()\n",
    "            print(agent.q_table)\n",
    "            time.sleep(0.5)\n",
    "            clear_output(wait=True)\n",
    "            \n",
    "        total_rewards.append(total_reward)\n",
    "    return total_rewards\n",
    "        \n",
    "            "
   ]
  },
  {
   "cell_type": "code",
   "execution_count": 6,
   "metadata": {},
   "outputs": [
    {
     "name": "stdout",
     "output_type": "stream",
     "text": [
      "s: 5 a: 0\n",
      "Episode: 99, Total Reward: 26.0, eps: 0.36603234127322926\n",
      "  (Left)\n",
      "SFFF\n",
      "F\u001b[41mH\u001b[0mFH\n",
      "FFFH\n",
      "HFFG\n",
      "[[8.32972005e-01 8.57811511e-01 8.58734026e-01 8.32972005e-01]\n",
      " [8.32972005e-01 6.56333522e-47 8.85292810e-01 8.58733998e-01]\n",
      " [8.58734026e-01 9.12673000e-01 8.58734026e-01 8.85292810e-01]\n",
      " [8.85292810e-01 8.77290526e-19 8.36910094e-05 8.58648160e-01]\n",
      " [7.60210171e-05 8.85288358e-01 4.83528624e-25 7.57684887e-05]\n",
      " [2.97725718e-05 5.61508905e-05 3.96047436e-05 7.88700710e-05]\n",
      " [4.18484385e-19 9.40900000e-01 1.50906694e-17 8.85292801e-01]\n",
      " [7.18037194e-05 2.92317355e-05 1.98773872e-05 8.31363922e-05]\n",
      " [8.76091043e-01 8.23397492e-20 9.12672918e-01 7.83239714e-05]\n",
      " [8.76091067e-01 9.31306495e-01 9.40900000e-01 8.87982434e-13]\n",
      " [9.12672954e-01 9.70000000e-01 9.60787756e-27 9.12673000e-01]\n",
      " [7.18776083e-05 7.43576765e-05 8.87736352e-05 1.33945668e-05]\n",
      " [7.76974581e-05 8.37991512e-05 8.29304764e-05 2.91569965e-06]\n",
      " [3.90374491e-07 9.40804042e-01 9.69998070e-01 9.03547156e-01]\n",
      " [9.40618704e-01 9.69999990e-01 1.00000000e+00 9.40900000e-01]\n",
      " [5.80774825e-05 9.54337866e-05 1.97443778e-05 8.33254006e-06]]\n"
     ]
    }
   ],
   "source": [
    "run1 = run(0.97, 0.01)\n",
    "run2 = run(0.97, 0.10)"
   ]
  },
  {
   "cell_type": "code",
   "execution_count": 14,
   "metadata": {},
   "outputs": [
    {
     "name": "stdout",
     "output_type": "stream",
     "text": [
      "s: 7 a: 1\n",
      "Episode: 99, Total Reward: 29.0, eps: 0.36603234127322926\n",
      "  (Down)\n",
      "SFFF\n",
      "FHF\u001b[41mH\u001b[0m\n",
      "FFFH\n",
      "HFFG\n",
      "[[8.32972005e-01 8.07982845e-01 8.58734026e-01 8.32972005e-01]\n",
      " [8.32972005e-01 0.00000000e+00 8.85292810e-01 8.58734026e-01]\n",
      " [8.58734026e-01 9.12673000e-01 8.58734026e-01 8.85292810e-01]\n",
      " [8.85292810e-01 0.00000000e+00 5.11936656e-06 6.52418615e-05]\n",
      " [8.10437592e-05 6.36765729e-05 0.00000000e+00 8.32972005e-01]\n",
      " [2.97725718e-05 5.61508905e-05 3.96047436e-05 7.88700710e-05]\n",
      " [0.00000000e+00 9.40900000e-01 0.00000000e+00 8.85292810e-01]\n",
      " [7.18037194e-05 2.92317355e-05 1.98773872e-05 8.31363922e-05]\n",
      " [5.34422845e-05 0.00000000e+00 9.12673000e-01 5.19142863e-05]\n",
      " [8.85292810e-01 9.40900000e-01 9.40900000e-01 0.00000000e+00]\n",
      " [9.12673000e-01 9.70000000e-01 0.00000000e+00 9.12673000e-01]\n",
      " [7.18776083e-05 7.43576765e-05 8.87736352e-05 1.33945668e-05]\n",
      " [7.76974581e-05 8.37991512e-05 8.29304764e-05 2.91569965e-06]\n",
      " [0.00000000e+00 9.40900000e-01 9.70000000e-01 9.12673000e-01]\n",
      " [9.40900000e-01 9.70000000e-01 1.00000000e+00 9.40900000e-01]\n",
      " [5.80774825e-05 9.54337866e-05 1.97443778e-05 8.33254006e-06]]\n"
     ]
    }
   ],
   "source": [
    "run3 = run(0.97, 1.0)"
   ]
  },
  {
   "cell_type": "code",
   "execution_count": 15,
   "metadata": {},
   "outputs": [
    {
     "name": "stdout",
     "output_type": "stream",
     "text": [
      "s: 5 a: 2\n",
      "Episode: 99, Total Reward: 2.0, eps: 0.36603234127322926\n",
      "  (Right)\n",
      "SFFF\n",
      "F\u001b[41mH\u001b[0mFH\n",
      "FFFH\n",
      "HFFG\n",
      "[[ 3.55297615e+245  3.78006219e+247 -2.18130009e+244  3.55319926e+245]\n",
      " [ 1.00449035e+247  6.46338154e+016 -1.21328156e+214  5.09082392e+216]\n",
      " [ 1.82048629e+235 -1.67498244e+168  6.96604258e+167  5.86619715e+184]\n",
      " [ 7.18148720e+166 -5.18031283e+000  1.08849795e+128  5.17363077e+128]\n",
      " [ 4.52240002e+242  3.51790344e+214  1.34483038e+028  4.30969431e+246]\n",
      " [ 2.97725718e-005  5.61508905e-005  3.96047436e-005  7.88700710e-005]\n",
      " [ 2.22399760e+001 -5.33355372e+032  8.01980046e+000  1.51660195e+213]\n",
      " [ 7.18037194e-005  2.92317355e-005  1.98773872e-005  8.31363922e-005]\n",
      " [ 4.81452753e+129  2.32551772e+006 -2.11032189e+134 -1.19744813e+205]\n",
      " [-4.09375561e+127  9.43079329e+002 -1.42984653e+021  4.71910273e+001]\n",
      " [-1.34105435e+020 -4.19922231e+001  6.30372847e-001 -7.03273161e+031]\n",
      " [ 7.18776083e-005  7.43576765e-005  8.87736352e-005  1.33945668e-005]\n",
      " [ 7.76974581e-005  8.37991512e-005  8.29304764e-005  2.91569965e-006]\n",
      " [-2.84583004e-002  4.37251992e-005 -8.67022866e+002  4.92872674e-005]\n",
      " [ 3.87629658e-004  5.46996976e-002 -7.99994678e+001 -6.21649351e+000]\n",
      " [ 5.80774825e-005  9.54337866e-005  1.97443778e-005  8.33254006e-006]]\n"
     ]
    }
   ],
   "source": [
    "run4 = run(0.97, 10.0)"
   ]
  },
  {
   "cell_type": "code",
   "execution_count": 16,
   "metadata": {},
   "outputs": [
    {
     "data": {
      "text/plain": [
       "5.0"
      ]
     },
     "execution_count": 16,
     "metadata": {},
     "output_type": "execute_result"
    }
   ],
   "source": [
    "run1[-1]"
   ]
  },
  {
   "cell_type": "code",
   "execution_count": 17,
   "metadata": {},
   "outputs": [
    {
     "data": {
      "text/plain": [
       "11.0"
      ]
     },
     "execution_count": 17,
     "metadata": {},
     "output_type": "execute_result"
    }
   ],
   "source": [
    "run2[-1]"
   ]
  },
  {
   "cell_type": "code",
   "execution_count": 18,
   "metadata": {},
   "outputs": [
    {
     "data": {
      "text/plain": [
       "29.0"
      ]
     },
     "execution_count": 18,
     "metadata": {},
     "output_type": "execute_result"
    }
   ],
   "source": [
    "run3[-1]"
   ]
  },
  {
   "cell_type": "code",
   "execution_count": 20,
   "metadata": {},
   "outputs": [
    {
     "data": {
      "text/plain": [
       "2.0"
      ]
     },
     "execution_count": 20,
     "metadata": {},
     "output_type": "execute_result"
    }
   ],
   "source": [
    "run4[-1]"
   ]
  },
  {
   "cell_type": "code",
   "execution_count": 21,
   "metadata": {},
   "outputs": [],
   "source": [
    "from matplotlib import pyplot as plt"
   ]
  },
  {
   "cell_type": "code",
   "execution_count": 22,
   "metadata": {},
   "outputs": [
    {
     "data": {
      "image/png": "[encoded data removed]",
      "text/plain": [
       "<Figure size 432x288 with 1 Axes>"
      ]
     },
     "metadata": {
      "needs_background": "light"
     },
     "output_type": "display_data"
    }
   ],
   "source": [
    "episodes = [ep for ep in range(100)]\n",
    "\n",
    "plt.plot(episodes, run1, 'g-', label='eta = 0.01')   # green solid line\n",
    "plt.plot(episodes, run2, 'r-.', label='eta = 0.1') # red dot-dashed line\n",
    "plt.plot(episodes, run3, 'b:', label='eta = 1.0') # blue dotted line\n",
    "plt.plot(episodes, run4, 'c:', label='eta = 10.0') # blue dotted line\n",
    "\n",
    "\n",
    "plt.legend(loc=9) # loc=9 means \"top center\"\n",
    "plt.xlabel(\"Episode\")\n",
    "plt.title(\"Learning rate trade-off\")\n",
    "plt.show()"
   ]
  },
  {
   "cell_type": "code",
   "execution_count": null,
   "metadata": {},
   "outputs": [],
   "source": []
  },
  {
   "cell_type": "code",
   "execution_count": null,
   "metadata": {},
   "outputs": [],
   "source": []
  },
  {
   "cell_type": "code",
   "execution_count": null,
   "metadata": {},
   "outputs": [],
   "source": []
  }
 ],
 "metadata": {
  "kernelspec": {
   "display_name": "Python 3",
   "language": "python",
   "name": "python3"
  },
  "language_info": {
   "codemirror_mode": {
    "name": "ipython",
    "version": 3
   },
   "file_extension": ".py",
   "mimetype": "text/x-python",
   "name": "python",
   "nbconvert_exporter": "python",
   "pygments_lexer": "ipython3",
   "version": "3.7.3"
  }
 },
 "nbformat": 4,
 "nbformat_minor": 2
}
