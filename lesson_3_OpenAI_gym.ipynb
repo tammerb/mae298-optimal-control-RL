{
 "cells": [
  {
   "cell_type": "code",
   "execution_count": 1,
   "metadata": {},
   "outputs": [],
   "source": [
    "import gym\n",
    "import random\n",
    "import time\n",
    "import numpy as np\n",
    "from IPython.display import clear_output\n",
    "\n",
    "from gym.envs.registration import register\n",
    "\n",
    "\n",
    "# wrap in a try block to supress a warning we don't care about\n",
    "try:\n",
    "    register(\n",
    "        id='FrozenLakeNoSlip-v0',\n",
    "        entry_point='gym.envs.toy_text:FrozenLakeEnv',\n",
    "        kwargs={'map_name' : '4x4', 'is_slippery':False},\n",
    "        max_episode_steps=100,\n",
    "        reward_threshold=0.78, # optimum = .8196\n",
    "    )\n",
    "except:\n",
    "    pass"
   ]
  },
  {
   "cell_type": "markdown",
   "metadata": {},
   "source": [
    "## Intro to Q learning\n",
    "\n",
    "#### Overview:\n",
    "\n",
    "Before we created a random agent that can simulate continuous and discrete action spaces. Now we'll be looking at Frozen Lake. Slippery ice means actions don't always pan out (stochastic). We'll set `is_slippery` to `False` to make this a deterministic environment.\n",
    "\n",
    "Change iteration loop to run while `done=False`.\n",
    "\n",
    "Print updates at 0.5 second intervals.\n",
    "\n",
    "Flush notebook output with `clear_output` command."
   ]
  },
  {
   "cell_type": "markdown",
   "metadata": {},
   "source": [
    "https://www.youtube.com/watch?v=wN3rxIKmMgE&list=PLIfPjWrv526bMF8_vx9BqWjec-F-g-lQO&index=3"
   ]
  },
  {
   "cell_type": "code",
   "execution_count": 2,
   "metadata": {},
   "outputs": [
    {
     "name": "stdout",
     "output_type": "stream",
     "text": [
      "Observation space: Discrete(16)\n",
      "Action space: Discrete(4)\n"
     ]
    },
    {
     "data": {
      "text/plain": [
       "gym.spaces.discrete.Discrete"
      ]
     },
     "execution_count": 2,
     "metadata": {},
     "output_type": "execute_result"
    }
   ],
   "source": [
    "#env_name = \"CartPole-v1\"\n",
    "#env_name = \"MountainCar-v0\"\n",
    "#env_name = \"MountainCarContinuous-v0\"\n",
    "#env_name = \"Acrobot-v1\"\n",
    "#env_name = \"Pendulum-v0\"\n",
    "#env_name = \"FrozenLake-v0\"\n",
    "env_name = \"FrozenLakeNoSlip-v0\"   # we set is_slippery=False in the register up above\n",
    "\n",
    "env = gym.make(env_name)\n",
    "print(\"Observation space:\", env.observation_space)\n",
    "print(\"Action space:\", env.action_space)\n",
    "\n",
    "type(env.action_space)"
   ]
  },
  {
   "cell_type": "code",
   "execution_count": 3,
   "metadata": {},
   "outputs": [],
   "source": [
    "class Agent():\n",
    "    def __init__(self, env):\n",
    "        self.is_discrete = \\\n",
    "            type(env.action_space) == gym.spaces.discrete.Discrete\n",
    "        \n",
    "        if self.is_discrete:\n",
    "            self.action_size = env.action_space.n\n",
    "            print(\"Action size:\", self.action_size)\n",
    "            \n",
    "        else:\n",
    "            self.action_low = env.action_space.low\n",
    "            self.action_high = env.action_space.high\n",
    "            self.action_shape = env.action_space.shape\n",
    "            print(\"Action range:\", self.action_low, self.action_high)\n",
    "        \n",
    "    def get_action(self, state):\n",
    "        if self.is_discrete:\n",
    "            action = random.choice(range(self.action_size))\n",
    "        else:\n",
    "            action = np.random.uniform(self.action_low,\n",
    "                                      self.action_high,\n",
    "                                      self.action_shape)\n",
    "        return action"
   ]
  },
  {
   "cell_type": "markdown",
   "metadata": {},
   "source": [
    "To implement Q-learning, create Q-agent which a subclass of the parent agent.\n",
    "\n",
    "Q table:\n",
    "-States as rows\n",
    "-Actions as columns\n",
    "\n",
    "#### Redfine get-action method to select actions corresponding to the state. `argmax` is used to select the action with highest q-value.\n",
    "\n",
    "#### Define a `train` method for updating the q-table at each step.\n",
    "\n",
    "- It receives the `experience` tuple with `(state, action, next_state, reward, done)`.\n",
    "- Calls for `q_next` (pulls next_state from q-table), and checks if this next_state is `done`.\n",
    "- Calculates `q_target` from the Q-learning equation (reward plus _discounted_ future reward)\n",
    "- Calculates `q_update`, which is the distance from the current q-value to the target.\n",
    "- Pushes update to the q-table using _learning rate_.\n",
    "- Constructor defines both the `discount_rate` and the `learning_rate` used above.\n",
    "\n",
    "#### Balance exploration vs exploitation (aka policy or greedy action): epsilon (eps)\n",
    "Start with high epsilon (aka 1.0 to explore 100% of the time), then exponentially decay eps at each terminal step"
   ]
  },
  {
   "cell_type": "code",
   "execution_count": 4,
   "metadata": {},
   "outputs": [
    {
     "name": "stdout",
     "output_type": "stream",
     "text": [
      "Action size: 4\n",
      "State size 16\n"
     ]
    }
   ],
   "source": [
    "# QAgent is a subclass of the Agent class above\n",
    "\n",
    "class QAgent(Agent):\n",
    "    def __init__(self, env, discount_rate=0.97, learning_rate=0.01):\n",
    "        super().__init__(env)\n",
    "        \n",
    "        # Action size already defined above in parent class\n",
    "        \n",
    "        # Define and printout state size here:\n",
    "        self.state_size = env.observation_space.n\n",
    "        print(\"State size\", self.state_size)\n",
    "        \n",
    "        self.eps = 1.0\n",
    "        self.discount_rate = discount_rate\n",
    "        self.learning_rate = learning_rate\n",
    "        # build a Q table\n",
    "        self.build_model()\n",
    "        \n",
    "    def build_model(self):\n",
    "        self.q_table = 1e-4*np.random.random([self.state_size, self.action_size])\n",
    "        \n",
    "    # modify get_action method\n",
    "    def get_action(self, state):\n",
    "        q_state = self.q_table[state]\n",
    "        \n",
    "        # exploration vs exploitation using probability of epsilon\n",
    "        action_greedy = np.argmax(q_state)\n",
    "        action_random = super().get_action(state)\n",
    "        return action_random if random.random() < self.eps else action_greedy\n",
    "    \n",
    "    def train(self, experience):\n",
    "        state, action, next_state, reward, done = experience\n",
    "        \n",
    "        # q table\n",
    "        q_next = self.q_table[next_state]\n",
    "        q_next = np.zeros([self.action_size]) if done else q_next\n",
    "        q_target = reward + self.discount_rate * np.max(q_next)\n",
    "        \n",
    "        q_update = q_target - self.q_table[state, action]\n",
    "        self.q_table[state, action] += self.learning_rate * q_update\n",
    "        \n",
    "        # Exponential decay of epsilon when reaching a terminal step\n",
    "        if done:\n",
    "            self.eps = self.eps * 0.99\n",
    "        \n",
    "agent = QAgent(env)"
   ]
  },
  {
   "cell_type": "markdown",
   "metadata": {},
   "source": [
    "### Adjusting the simulation loop for training\n",
    "\n",
    "- env.step returns the next step, so make a variable called next_step\n",
    "- call train method\n",
    "- update the state to the next state\n",
    "- train over a number of episodes\n",
    "- and track the reward"
   ]
  },
  {
   "cell_type": "code",
   "execution_count": null,
   "metadata": {},
   "outputs": [
    {
     "name": "stdout",
     "output_type": "stream",
     "text": [
      "s: 14 a: 2\n",
      "Episode: 13, Total Reward: 0.0, eps: 0.8775210229989678\n",
      "  (Right)\n",
      "SFFF\n",
      "FHFH\n",
      "FFFH\n",
      "HF\u001b[41mF\u001b[0mG\n",
      "[[1.79339509e-05 1.93369883e-05 2.48723078e-05 1.23596784e-05]\n",
      " [6.43760791e-05 9.62612621e-05 2.32803474e-05 4.72823997e-05]\n",
      " [3.89138360e-05 9.86737200e-05 4.45590402e-05 2.32369004e-06]\n",
      " [7.28790820e-06 4.75590887e-06 2.73619485e-05 5.72925435e-06]\n",
      " [4.08016500e-05 5.15348501e-05 8.44746829e-05 6.80068953e-06]\n",
      " [8.72718705e-05 2.57313814e-05 9.22717367e-05 3.48182728e-05]\n",
      " [6.20448744e-06 1.90639625e-05 3.00377809e-05 8.04442497e-05]\n",
      " [1.50490536e-05 2.97014190e-05 8.15887946e-05 5.66548231e-05]\n",
      " [4.81074274e-05 5.30682536e-05 2.56897516e-05 7.37199965e-06]\n",
      " [5.28499395e-05 8.41539922e-05 3.36712601e-06 2.17479063e-05]\n",
      " [8.19415311e-05 3.43426599e-05 1.52617998e-05 4.54044986e-05]\n",
      " [4.85457554e-05 4.48512267e-05 9.14212042e-05 2.69982463e-06]\n",
      " [7.29367704e-05 9.53455069e-05 5.91185098e-06 6.19458592e-05]\n",
      " [2.80261333e-05 1.90403366e-05 2.61266453e-05 3.97752412e-05]\n",
      " [2.18621352e-05 8.19510834e-05 7.76237290e-05 1.37958684e-06]\n",
      " [6.58665247e-05 1.73825443e-06 7.48937618e-05 2.29131304e-05]]\n"
     ]
    }
   ],
   "source": [
    "total_reward = 0\n",
    "\n",
    "for ep in range(100):\n",
    "    state = env.reset()\n",
    "    done = False\n",
    "    while not done:\n",
    "        action = agent.get_action(state)\n",
    "        next_state, reward, done, info = env.step(action)\n",
    "        agent.train((state,action,next_state,reward,done))\n",
    "        state = next_state\n",
    "        total_reward += reward\n",
    "        \n",
    "        \n",
    "        print(\"s:\", state, \"a:\", action)\n",
    "        print(\"Episode: {}, Total Reward: {}, eps: {}\".format(ep,total_reward,agent.eps))\n",
    "        env.render()\n",
    "        print(agent.q_table)\n",
    "        time.sleep(0.5)\n",
    "        clear_output(wait=True)"
   ]
  },
  {
   "cell_type": "code",
   "execution_count": null,
   "metadata": {},
   "outputs": [],
   "source": []
  }
 ],
 "metadata": {
  "kernelspec": {
   "display_name": "Python 3",
   "language": "python",
   "name": "python3"
  },
  "language_info": {
   "codemirror_mode": {
    "name": "ipython",
    "version": 3
   },
   "file_extension": ".py",
   "mimetype": "text/x-python",
   "name": "python",
   "nbconvert_exporter": "python",
   "pygments_lexer": "ipython3",
   "version": "3.7.3"
  }
 },
 "nbformat": 4,
 "nbformat_minor": 2
}
